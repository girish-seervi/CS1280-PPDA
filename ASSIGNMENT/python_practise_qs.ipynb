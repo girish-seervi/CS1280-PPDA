{
  "cells": [
    {
      "cell_type": "markdown",
      "metadata": {
        "id": "nF5vaH5UhAa2"
      },
      "source": [
        "# **Numpy Practise Questions**"
      ]
    },
    {
      "cell_type": "code",
      "execution_count": 2,
      "metadata": {
        "id": "cX1mzn7loBx_"
      },
      "outputs": [],
      "source": [
        "import numpy as np"
      ]
    },
    {
      "cell_type": "markdown",
      "metadata": {
        "id": "fE8p3Ay0bxJj"
      },
      "source": [
        "Question 1 - 1D Arrays"
      ]
    },
    {
      "cell_type": "code",
      "execution_count": null,
      "metadata": {
        "colab": {
          "base_uri": "https://localhost:8080/"
        },
        "id": "xtJ2fHsGoK9Q",
        "outputId": "f86e1856-1811-423e-de4e-dceb4d544c20"
      },
      "outputs": [
        {
          "name": "stdout",
          "output_type": "stream",
          "text": [
            "[1, 2, 3, 4, 5, 6, 7, 8, 9, 10]\n",
            "[0.         0.05263158 0.10526316 0.15789474 0.21052632 0.26315789\n",
            " 0.31578947 0.36842105 0.42105263 0.47368421 0.52631579 0.57894737\n",
            " 0.63157895 0.68421053 0.73684211 0.78947368 0.84210526 0.89473684\n",
            " 0.94736842 1.        ]\n",
            "[76 16 72 62 70 28 35 55 65 85]\n"
          ]
        }
      ],
      "source": [
        "#Create a 1D NumPy array from a list of numbers from 1 to 10.\n",
        "d1_arr = [1,2,3,4,5,6,7,8,9,10]\n",
        "print(d1_arr)\n",
        "\n",
        "#Create a 1D array of 20 equally spaced numbers between 0 and 1.\n",
        "arr = np.linspace(0, 1, 20)\n",
        "print(arr)\n",
        "\n",
        "#Generate a 1D array of 10 random integers between 1 and 100.\n",
        "arr2 = np.random.randint(1,100,10)\n",
        "print(arr2)"
      ]
    },
    {
      "cell_type": "markdown",
      "metadata": {
        "id": "r3ipd_NDb0y4"
      },
      "source": [
        "Question 2 - 2D Arrays"
      ]
    },
    {
      "cell_type": "code",
      "execution_count": null,
      "metadata": {
        "colab": {
          "base_uri": "https://localhost:8080/"
        },
        "id": "YE8FgP2goa4u",
        "outputId": "457f2857-7f1e-4fec-ef67-3dd0f37d7e9a"
      },
      "outputs": [
        {
          "name": "stdout",
          "output_type": "stream",
          "text": [
            "[[0. 0. 0. 0.]\n",
            " [0. 0. 0. 0.]\n",
            " [0. 0. 0. 0.]]\n",
            "[[0.7165207  0.68950796 0.84820039 0.54447545 0.91660766]\n",
            " [0.2542783  0.64283196 0.97087064 0.78225092 0.29895893]\n",
            " [0.37255715 0.1876123  0.52585429 0.8860081  0.24265437]\n",
            " [0.77372844 0.30093322 0.30538026 0.74773298 0.59591993]\n",
            " [0.34910572 0.97533179 0.25918449 0.08527345 0.76511191]]\n",
            "[[1. 1.]\n",
            " [1. 1.]]\n"
          ]
        }
      ],
      "source": [
        "#Create a 2D array with 3 rows and 4 columns filled with zeros.\n",
        "d2_arr = np.zeros((3,4))\n",
        "print(d2_arr)\n",
        "\n",
        "#Generate a 2D array with the shape (5,5) containing random floating-point numbers.\n",
        "rand_float = np.random.rand(5,5)\n",
        "print(rand_float)\n",
        "\n",
        "#Create a 2x2 identity matrix\n",
        "identity_arr = np.ones((2,2))\n",
        "print(identity_arr)"
      ]
    },
    {
      "cell_type": "markdown",
      "metadata": {
        "id": "V2n-_FmVb2VV"
      },
      "source": [
        "Question 3 - 3D Arrays"
      ]
    },
    {
      "cell_type": "code",
      "execution_count": 3,
      "metadata": {
        "colab": {
          "base_uri": "https://localhost:8080/"
        },
        "id": "yH_ZTiMKojDR",
        "outputId": "44c25aa3-73a6-4ea0-b591-671d025ce664"
      },
      "outputs": [
        {
          "name": "stdout",
          "output_type": "stream",
          "text": [
            "[[[0. 0.]\n",
            "  [0. 0.]\n",
            "  [0. 0.]\n",
            "  [0. 0.]]\n",
            "\n",
            " [[0. 0.]\n",
            "  [0. 0.]\n",
            "  [0. 0.]\n",
            "  [0. 0.]]\n",
            "\n",
            " [[0. 0.]\n",
            "  [0. 0.]\n",
            "  [0. 0.]\n",
            "  [0. 0.]]]\n",
            "[[[9 1 5]\n",
            "  [5 5 8]\n",
            "  [8 5 9]]\n",
            "\n",
            " [[4 4 3]\n",
            "  [8 7 4]\n",
            "  [2 9 3]]]\n",
            "[[[ 0  1  2  3]\n",
            "  [ 4  5  6  7]\n",
            "  [ 8  9 10 11]]\n",
            "\n",
            " [[12 13 14 15]\n",
            "  [16 17 18 19]\n",
            "  [20 21 22 23]]]\n",
            "[[ 4.  5.  6.  7.]\n",
            " [16. 17. 18. 19.]]\n",
            "[[ 1.5  5.5  9.5]\n",
            " [13.5 17.5 21.5]]\n",
            "11.5\n"
          ]
        }
      ],
      "source": [
        "#Create a 3D array with the shape (3,4,2) filled with zeros.\n",
        "arr = np.zeros((3,4,2))\n",
        "print(arr)\n",
        "\n",
        "#Generate a 3D array with the shape (2,3,3) containing random integers between 1 and 10.\n",
        "random_arr =  np.random.randint(1,10,(2,3,3))\n",
        "print(random_arr)\n",
        "\n",
        "#Convert a list of 24 sequential numbers into a 3D array with shape (2,3,4).\n",
        "seq_arr = np.arange(24).reshape(2,3,4)\n",
        "print(seq_arr)\n",
        "\n",
        "#Calculate the mean along the row and column.\n",
        "mean_row = seq_arr.mean(axis=1) \n",
        "print(mean_row)\n",
        "mean_column = seq_arr.mean(axis=2) \n",
        "print(mean_column)\n",
        "\n",
        "# Calculate the  mean\n",
        "mean = seq_arr.mean()\n",
        "print(mean)"
      ]
    },
    {
      "cell_type": "markdown",
      "metadata": {
        "id": "iTJIhxVGb4o8"
      },
      "source": [
        "Question 4 - n-dimensional arrays"
      ]
    },
    {
      "cell_type": "code",
      "execution_count": null,
      "metadata": {
        "colab": {
          "base_uri": "https://localhost:8080/"
        },
        "id": "Gu-Iy5flssIz",
        "outputId": "799aa0ad-c634-4dd4-e12b-5339065ab89e"
      },
      "outputs": [
        {
          "name": "stdout",
          "output_type": "stream",
          "text": [
            "[[[1. 1. 1. 1.]\n",
            "  [1. 1. 1. 1.]\n",
            "  [1. 1. 1. 1.]]\n",
            "\n",
            " [[1. 1. 1. 1.]\n",
            "  [1. 1. 1. 1.]\n",
            "  [1. 1. 1. 1.]]]\n",
            "[[[[0. 0.]\n",
            "   [0. 0.]]\n",
            "\n",
            "  [[0. 0.]\n",
            "   [0. 0.]]]\n",
            "\n",
            "\n",
            " [[[0. 0.]\n",
            "   [0. 0.]]\n",
            "\n",
            "  [[0. 0.]\n",
            "   [0. 0.]]]]\n"
          ]
        }
      ],
      "source": [
        "#Create a 3D array with the shape (2,3,4) filled with ones.\n",
        "d3_arr = np.ones((2,3,4))\n",
        "print(d3_arr)\n",
        "\n",
        "#Generate a 4D array with the shape (2,2,2,2) containing all zeros.\n",
        "d4_arr = np.zeros((2,2,2,2))\n",
        "print(d4_arr)\n"
      ]
    },
    {
      "cell_type": "markdown",
      "metadata": {
        "id": "TSnnCsuVb9kz"
      },
      "source": [
        "Question 5 - Indexing and Slicing"
      ]
    },
    {
      "cell_type": "code",
      "execution_count": null,
      "metadata": {
        "colab": {
          "base_uri": "https://localhost:8080/"
        },
        "id": "3epoYWXbthD1",
        "outputId": "e2a3d9d3-1466-4112-e432-6fedc0249838"
      },
      "outputs": [
        {
          "name": "stdout",
          "output_type": "stream",
          "text": [
            "[7 9 8]\n",
            "14\n",
            "[ 6  7  8  9 10]\n"
          ]
        }
      ],
      "source": [
        "#Given a 1D array [3, 7, 2, 9, 5, 8, 1], extract the elements at indices 1, 3, and 5.\n",
        "arr = np.array([3, 7, 2, 9, 5, 8, 1])\n",
        "slice_arr = arr[[1,3,5]]\n",
        "print(slice_arr)\n",
        "\n",
        "#From a 2D array with shape (4,5), extract the element at row 2, column 3.\n",
        "arr = np.array([[1,2,3,4,5],[6,7,8,9,10],[11,12,13,14,15],[16,17,18,19,20]])\n",
        "element = arr[2,3]\n",
        "print(element)\n",
        "\n",
        "#From a 2D array, extract the entire second row.\n",
        "second_row = arr[1,:]\n",
        "print(second_row)\n",
        "\n",
        "#From a 2D array, extract a subarray containing rows 1 to 3 and columns 2 to 4.\n",
        "sub_arr = arr[1:4,2:5]\n",
        "print(sub_arr)"
      ]
    },
    {
      "cell_type": "markdown",
      "metadata": {
        "id": "v2VC_yt8b_E8"
      },
      "source": [
        "Question 6 - 3D Array Indexing and Slicing"
      ]
    },
    {
      "cell_type": "code",
      "execution_count": 5,
      "metadata": {
        "colab": {
          "base_uri": "https://localhost:8080/"
        },
        "id": "3v3UxZmEtsmu",
        "outputId": "8baa1060-9f40-4901-da68-438e7bc75f6a"
      },
      "outputs": [
        {
          "name": "stdout",
          "output_type": "stream",
          "text": [
            "12\n",
            "[[24 23 74 90 38]\n",
            " [61 20 28  8 48]\n",
            " [11 32  2 54 98]\n",
            " [81 18 89  0 69]]\n",
            "[[[12 10]\n",
            "  [69 66]]\n",
            "\n",
            " [[28 84]\n",
            "  [28 13]]]\n"
          ]
        }
      ],
      "source": [
        "#From a 3D array with shape (3,4,5), extract the element at position (depth 1,row 2,col 3).\n",
        "arr = np.random.randint(0, 100, (3, 4, 5))\n",
        "element = arr[1, 2, 3]\n",
        "print(element)\n",
        "\n",
        "#From a 3D array, extract the entire first \"layer\" (all rows and columns of the first depth index).\n",
        "layer = arr[0]\n",
        "print(layer)\n",
        "\n",
        "#From a 3D array of shape (4,5,6), extract a subarray containing depths 1 to 3, rows 2 to 4, and columns 3 to 5.\n",
        "subarray = arr[1:4, 2:5, 3:6]\n",
        "print(subarray)"
      ]
    },
    {
      "cell_type": "markdown",
      "metadata": {
        "id": "7HvniiR1cZyg"
      },
      "source": [
        "Question 7 - Reshaping\n"
      ]
    },
    {
      "cell_type": "code",
      "execution_count": 7,
      "metadata": {
        "colab": {
          "base_uri": "https://localhost:8080/"
        },
        "id": "PdylIMS7bPEF",
        "outputId": "89cb54c2-8ded-4696-842e-6ff5be3dccb6"
      },
      "outputs": [
        {
          "name": "stdout",
          "output_type": "stream",
          "text": [
            "[[ 0  1  2  3]\n",
            " [ 4  5  6  7]\n",
            " [ 8  9 10 11]]\n",
            "[ 0  1  2  3  4  5  6  7  8  9 10 11]\n",
            "[[ 1  6]\n",
            " [ 2  7]\n",
            " [ 3  8]\n",
            " [ 4  9]\n",
            " [ 5 10]]\n"
          ]
        }
      ],
      "source": [
        "#Reshape a 1D array of 12 elements into a 3x4 2D array.\n",
        "arr = np.arange(12)\n",
        "reshaped = arr.reshape(3, 4)\n",
        "print(reshaped)\n",
        "\n",
        "#Reshape a 2D array of shape (3,4) into a 1D array.\n",
        "arr = arr.flatten()\n",
        "print(arr)\n",
        "\n",
        "#Transpose a 2D array of shape (2,5).\n",
        "arr = np.array([[1,2,3,4,5],[6,7,8,9,10]])\n",
        "transposed = arr.T\n",
        "print(transposed)"
      ]
    },
    {
      "cell_type": "markdown",
      "metadata": {
        "id": "KzHyTS8VdLZb"
      },
      "source": [
        "Question 8 - 3D Array Reshaping and Manipulation"
      ]
    },
    {
      "cell_type": "code",
      "execution_count": 10,
      "metadata": {
        "colab": {
          "base_uri": "https://localhost:8080/"
        },
        "id": "kpfg6krgc4db",
        "outputId": "26db8cfa-2c97-44c9-db48-ece2fdb504d7"
      },
      "outputs": [
        {
          "name": "stdout",
          "output_type": "stream",
          "text": [
            "[[92 25 17 39]\n",
            " [89 13 80  1]\n",
            " [54 30 40 21]\n",
            " [82 78 96 62]\n",
            " [31 68 22 55]\n",
            " [23 51 52 22]]\n",
            "[[[92 89 54]\n",
            "  [82 31 23]]\n",
            "\n",
            " [[25 13 30]\n",
            "  [78 68 51]]\n",
            "\n",
            " [[17 80 40]\n",
            "  [96 22 52]]\n",
            "\n",
            " [[39  1 21]\n",
            "  [62 55 22]]]\n",
            "[[[49  6 88 90]\n",
            "  [36 45  7 52]\n",
            "  [77 52 74 85]]\n",
            "\n",
            " [[54 89 41 30]\n",
            "  [33 22 77 83]\n",
            "  [76 64 76 27]]]\n"
          ]
        }
      ],
      "source": [
        "#Reshape a 3D array of shape (2,3,4) into a 2D array of shape (6,4).\n",
        "arr = np.random.randint(0, 100, (2, 3, 4))\n",
        "reshaped = arr.reshape(6, 4)\n",
        "print(reshaped)\n",
        "\n",
        "#Transpose a 3D array, swapping the first and third dimensions.\n",
        "transposed = arr.transpose((2, 0, 1))\n",
        "print(transposed)\n",
        "\n",
        "#Stack two 2D arrays of shape (3,4) to create a 3D array of shape (2,3,4).\n",
        "arr1 = np.random.randint(0, 100, (3, 4))\n",
        "arr2 = np.random.randint(0, 100, (3, 4))\n",
        "stacked = np.stack((arr1, arr2))\n",
        "print(stacked)"
      ]
    },
    {
      "cell_type": "markdown",
      "metadata": {
        "id": "Qm1K1bvDfWHu"
      },
      "source": [
        "Question 9 - Element-wise Operations"
      ]
    },
    {
      "cell_type": "code",
      "execution_count": 9,
      "metadata": {
        "colab": {
          "base_uri": "https://localhost:8080/"
        },
        "id": "_xbvT9TWfVMZ",
        "outputId": "d0cc72a8-a736-48c2-8dfe-3224857c9b24"
      },
      "outputs": [
        {
          "name": "stdout",
          "output_type": "stream",
          "text": [
            "[ 7  9 11 13 15]\n",
            "[[ 2  4  6  8 10]\n",
            " [12 14 16 18 20]]\n",
            "[[1.         1.41421356 1.73205081 2.         2.23606798]\n",
            " [2.44948974 2.64575131 2.82842712 3.         3.16227766]]\n"
          ]
        }
      ],
      "source": [
        "#Add two 1D arrays of the same length element-wise.\n",
        "arr1 = np.array([1,2,3,4,5])\n",
        "arr2 = np.array([6,7,8,9,10])\n",
        "added = arr1 + arr2\n",
        "print(added)\n",
        "\n",
        "#Multiply a 2D array by a scalar value.\n",
        "arr = np.array([[1,2,3,4,5],[6,7,8,9,10]])\n",
        "multiplied = arr * 2\n",
        "print(multiplied)\n",
        "\n",
        "#Calculate the square root of each element in an array.\n",
        "sqrt = np.sqrt(arr)\n",
        "print(sqrt)\n"
      ]
    },
    {
      "cell_type": "markdown",
      "metadata": {
        "id": "67pEjh9CfzOd"
      },
      "source": [
        "Question 10 - 3D Array Operations"
      ]
    },
    {
      "cell_type": "code",
      "execution_count": null,
      "metadata": {
        "id": "vc5rIgnqfVTp"
      },
      "outputs": [],
      "source": [
        "#Perform element-wise addition between two 3D arrays of the same shape.\n",
        "arr1 = np.random.randint(0, 100, (2, 3, 4))\n",
        "arr2 = np.random.randint(0, 100, (2, 3, 4))\n",
        "added = arr1 + arr2\n",
        "print(added)\n",
        "\n",
        "#Calculate the mean along the second axis of a 3D array.\n",
        "mean = np.mean(arr1, axis=1)\n",
        "print(mean)\n",
        "\n",
        "#Apply a function (like np.sin) to each element of a 3D array.\n",
        "sin = np.sin(arr1)\n",
        "print(sin)"
      ]
    },
    {
      "cell_type": "markdown",
      "metadata": {
        "id": "s39a7oXOgOzm"
      },
      "source": [
        "Question 11 - Broadcasting\n"
      ]
    },
    {
      "cell_type": "code",
      "execution_count": null,
      "metadata": {
        "id": "qYYLoHRGfVYU"
      },
      "outputs": [],
      "source": [
        "#Add a 1D array of shape (3,) to each row of a 2D array with shape (4,3).\n",
        "arr1 = np.array([1,2,3])\n",
        "arr2 = np.random.randint(0, 100, (4, 3))\n",
        "added = arr2 + arr1\n",
        "print(added)\n",
        "\n",
        "#Multiply a 2D array of shape (3,4) with a 1D array of shape (4,).\n",
        "arr1 = np.array([1,2,3,4])\n",
        "arr2 = np.random.randint(0, 100, (3, 4))\n",
        "multiplied = arr2 * arr1\n",
        "print(multiplied)\n"
      ]
    },
    {
      "cell_type": "markdown",
      "metadata": {
        "id": "c_9wtP6xgmIi"
      },
      "source": [
        "Question 12 - 3D Array Broadcasting"
      ]
    },
    {
      "cell_type": "code",
      "execution_count": null,
      "metadata": {
        "id": "LJz49vJEfVa6"
      },
      "outputs": [],
      "source": [
        "#Add a 1D array of shape (4,) to each \"row\" across all \"layers\" of a 3D array with shape (3,5,4).\n",
        "arr1 = np.array([1,2,3,4])\n",
        "arr2 = np.random.randint(0, 100, (3, 5, 4))\n",
        "sum = arr2 + arr1\n",
        "print(sum)\n",
        "\n",
        "#Multiply a 2D array of shape (3,4) with each \"layer\" of a 3D array with shape (2,3,4).\n",
        "arr1 = np.random.randint(0, 100, (2, 3, 4))\n",
        "arr2 = np.random.randint(0, 100, (3, 4))\n",
        "product = arr1 * arr2\n",
        "print(product)\n",
        "\n",
        "#Scale each \"layer\" of a 3D array with shape (4,3,5) by a different scalar value from a 1D array of shape (4,).\n",
        "arr1 = np.array([1,2,3,4])\n",
        "arr2 = np.random.randint(0, 100, (4, 3, 5))\n",
        "scaled = arr2 * arr1\n",
        "print(scaled)\n"
      ]
    },
    {
      "cell_type": "markdown",
      "metadata": {
        "id": "TvLrAng6gzXK"
      },
      "source": [
        "# **Pandas Practice Questions**"
      ]
    },
    {
      "cell_type": "code",
      "execution_count": 12,
      "metadata": {
        "id": "9uX00h9afVdx"
      },
      "outputs": [],
      "source": [
        "import pandas as pd"
      ]
    },
    {
      "cell_type": "markdown",
      "metadata": {
        "id": "wZC46e_dhgDE"
      },
      "source": [
        "Question 13 - Series Creation and Basics\n"
      ]
    },
    {
      "cell_type": "code",
      "execution_count": 13,
      "metadata": {
        "colab": {
          "base_uri": "https://localhost:8080/"
        },
        "id": "YNGzpMb0fVgG",
        "outputId": "72e650f9-65c0-4afe-b1c6-9bc917cff3af"
      },
      "outputs": [
        {
          "name": "stdout",
          "output_type": "stream",
          "text": [
            "0     5\n",
            "1    10\n",
            "2    15\n",
            "3    20\n",
            "4    25\n",
            "dtype: int64\n",
            "a    100\n",
            "b    200\n",
            "c    300\n",
            "d    400\n",
            "e    500\n",
            "dtype: int64\n",
            "apple     3\n",
            "banana    5\n",
            "orange    2\n",
            "dtype: int64\n",
            "5\n",
            "30.0\n",
            "50\n",
            "10\n"
          ]
        }
      ],
      "source": [
        "#Create a pandas Series with the values [5, 10, 15, 20, 25].\n",
        "series = pd.Series([5,10,15,20,25])\n",
        "print(series)\n",
        "\n",
        "#Create a Series with values [100, 200, 300, 400, 500] and index labels ['a', 'b', 'c', 'd', 'e'].\n",
        "series = pd.Series([100,200,300,400,500], index=['a','b','c','d','e'])\n",
        "print(series)\n",
        "\n",
        "#Create a Series from this dictionary: {'apple': 3, 'banana': 5, 'orange': 2}.\n",
        "dict = {'apple': 3, 'banana': 5, 'orange': 2}\n",
        "series = pd.Series(dict)\n",
        "print(series)\n",
        "\n",
        "#For the Series s = pd.Series([10, 20, 30, 40, 50]):\n",
        "s = pd.Series([10, 20, 30, 40, 50])\n",
        "\n",
        "#Find its length\n",
        "length = len(s)\n",
        "print(length)\n",
        "#Find its mean value\n",
        "mean = s.mean()\n",
        "print(mean)\n",
        "#Find its maximum value\n",
        "max = s.max()\n",
        "print(max)\n",
        "#Find its minimum value\n",
        "min = s.min()\n",
        "print(min)\n"
      ]
    },
    {
      "cell_type": "markdown",
      "metadata": {
        "id": "cnukDnIwiEUq"
      },
      "source": [
        "Question 14 - DataFrame Creation\n"
      ]
    },
    {
      "cell_type": "code",
      "execution_count": null,
      "metadata": {
        "id": "tbJCsIpciAV3"
      },
      "outputs": [],
      "source": [
        "#Create a DataFrame from this dictionary:\n",
        "data = {\n",
        "    'Name': ['John', 'Emma', 'Alex'],\n",
        "    'Age': [25, 30, 22],\n",
        "    'City': ['New York', 'London', 'Paris']\n",
        "}\n",
        "df = pd.DataFrame(data)\n",
        "print(df)\n",
        "\n",
        "#Create a simple DataFrame with 3 rows and 2 columns named 'A' and 'B' with any numbers you choose.\n",
        "data = {\n",
        "    'A': [1,2,3],\n",
        "    'B': [4,5,6]\n",
        "}\n",
        "\n",
        "#Convert this list of lists into a DataFrame with column names 'Product', 'Price', 'Quantity':\n",
        "data = [\n",
        "    ['Apple', 1.2, 10],\n",
        "    ['Banana', 0.5, 15],\n",
        "    ['Orange', 0.8, 8]\n",
        "]\n",
        "df = pd.DataFrame(data, columns=['Product', 'Price', 'Quantity'])\n",
        "print(df)"
      ]
    },
    {
      "cell_type": "markdown",
      "metadata": {
        "id": "IEHJxqlRi1tH"
      },
      "source": [
        "Question 15 - Basic DataFrame Operations\n"
      ]
    },
    {
      "cell_type": "code",
      "execution_count": null,
      "metadata": {
        "id": "FlQ7PgmCibhF"
      },
      "outputs": [],
      "source": [
        "#For the DataFrame created in question 5:\n",
        "# Display the column names\n",
        "print(df.columns)\n",
        "\n",
        "# Display the first 2 rows\n",
        "print(df.head(2))\n",
        "\n",
        "# Display information about the DataFrame\n",
        "print(df.info())\n",
        "\n",
        "# New DataFrame\n",
        "df = pd.DataFrame({\n",
        "    'A': [1, 2, 3],\n",
        "    'B': [4, 5, 6],\n",
        "    'C': [7, 8, 9]\n",
        "})\n",
        "\n",
        "# Select column 'A'\n",
        "print(df['A'])\n",
        "\n",
        "# Select columns 'A' and 'C'\n",
        "print(df[['A', 'C']])\n",
        "\n",
        "# Select the value at row 1, column 'B'\n",
        "print(df.loc[1, 'B'])"
      ]
    },
    {
      "cell_type": "markdown",
      "metadata": {
        "id": "mBp6W59XjWgC"
      },
      "source": [
        "Question 16 - Indexing, Slicing, and Filtering\n"
      ]
    },
    {
      "cell_type": "code",
      "execution_count": null,
      "metadata": {
        "id": "aP8GK4LXiboD"
      },
      "outputs": [],
      "source": [
        "#Using this DataFrame:\n",
        "df = pd.DataFrame({\n",
        "    'Name': ['John', 'Emma', 'Alex', 'Sarah', 'Mike'],\n",
        "    'Age': [25, 30, 22, 28, 32],\n",
        "    'City': ['New York', 'London', 'Paris', 'Berlin', 'Tokyo'],\n",
        "    'Salary': [50000, 60000, 45000, 55000, 65000]\n",
        "})\n",
        "#Select rows where Age > 25\n",
        "rows = df[df['Age'] > 25]\n",
        "print(rows)\n",
        "\n",
        "#Select rows where City is 'London' or 'Paris'\n",
        "rows = df[(df['City'] == 'London') | (df['City'] == 'Paris')]\n",
        "print(rows)\n",
        "\n",
        "#Select rows where Salary is between 45000 and 60000\n",
        "rows = df[(df['Salary'] >= 45000) & (df['Salary'] <= 60000)]\n",
        "print(rows)\n"
      ]
    },
    {
      "cell_type": "markdown",
      "metadata": {
        "id": "VKg1aFvyqtxP"
      },
      "source": [
        "Question 17 - Handling Missing Data\n"
      ]
    },
    {
      "cell_type": "code",
      "execution_count": 14,
      "metadata": {
        "colab": {
          "base_uri": "https://localhost:8080/"
        },
        "id": "zZIcq5HxibtR",
        "outputId": "1397b93c-4068-448c-e972-cc5fc97401ef"
      },
      "outputs": [
        {
          "name": "stdout",
          "output_type": "stream",
          "text": [
            "A    1\n",
            "B    1\n",
            "C    1\n",
            "dtype: int64\n",
            "     A    B    C\n",
            "0  1.0  5.0  9.0\n",
            "     A    B    C\n",
            "0  1.0  5.0  9.0\n"
          ]
        }
      ],
      "source": [
        "#Create a DataFrame with some missing values:\n",
        "df = pd.DataFrame({\n",
        "    'A': [1, 2, None, 4],\n",
        "    'B': [5, None, 7, 8],\n",
        "    'C': [9, 10, 11, None]\n",
        "})\n",
        "\n",
        "#Count the number of missing values in each column\n",
        "print(df.isnull().sum())\n",
        "\n",
        "#Drop rows with any missing values\n",
        "df = df.dropna()\n",
        "print(df)\n",
        "\n",
        "#Fill all missing values with 0\n",
        "df = df.fillna(0)\n",
        "print(df)\n",
        "\n",
        "#Using the DataFrame from previous question:\n",
        "# Fill missing values in column 'A' with the mean of column 'A'\n",
        "df['A'].fillna(df['A'].mean(), inplace=True)\n",
        "\n",
        "# Fill missing values in column 'B' with the value 100\n",
        "df['B'].fillna(100, inplace=True)\n",
        "\n",
        "# Replace all missing values with the previous valid value\n",
        "df.ffill(inplace=True)\n",
        "\n",
        "print(df)\n"
      ]
    },
    {
      "cell_type": "markdown",
      "metadata": {
        "id": "HWdhf1N7rSRa"
      },
      "source": [
        "Question 18 - Simple Data Manipulation\n"
      ]
    },
    {
      "cell_type": "code",
      "execution_count": null,
      "metadata": {
        "id": "sF6JHcLFib_P"
      },
      "outputs": [],
      "source": [
        "#Create a DataFrame with student test scores:\n",
        "df = pd.DataFrame({\n",
        "    'Student': ['Alex', 'Bob', 'Charlie', 'David'],\n",
        "    'Math': [85, 90, 70, 80],\n",
        "    'Science': [90, 85, 75, 85],\n",
        "    'English': [80, 95, 80, 75]\n",
        "})\n",
        "\n",
        "#Add a new column 'Average' that contains the average score for each student\n",
        "df['Average'] = df[['Math', 'Science', 'English']].mean(axis=1)\n",
        "\n",
        "#Sort the DataFrame by the Math scores in descending order\n",
        "df = df.sort_values(by='Math', ascending=False)\n",
        "\n",
        "#Find the student with the highest Science score\n",
        "max_science = df['Science'].max()\n",
        "max_science_student = df[df['Science'] == max_science]['Student'].values[0]\n",
        "\n",
        "#For the DataFrame in previous question:\n",
        "#Find all students who scored above 85 in any subject\n",
        "above_85 = df[(df['Math'] > 85) | (df['Science'] > 85) | (df['English'] > 85)]\n",
        "print(above_85)\n",
        "\n",
        "#Calculate the average score for each subject\n",
        "average_scores = df[['Math', 'Science', 'English']].mean()\n",
        "print(average_scores)\n",
        "\n",
        "#Add a new row for a student named 'Eve' with scores Math: 95, Science: 92, English: 88\n",
        "new_student = pd.DataFrame({'Student': ['Eve'], 'Math': [95], 'Science': [92], 'English': [88]})\n",
        "df = pd.concat([df, new_student], ignore_index=True)\n",
        "print(df)\n",
        "\n",
        "#Using the following DataFrame:\n",
        "df = pd.DataFrame({\n",
        "    'Product': ['A', 'B', 'A', 'C', 'B', 'A'],\n",
        "    'Quantity': [10, 5, 15, 8, 12, 7],\n",
        "    'Price': [100, 200, 100, 150, 200, 100]\n",
        "})\n",
        "\n",
        "#Calculate the total quantity for each product\n",
        "total_quantity = df.groupby('Product')['Quantity'].sum()\n",
        "print(total_quantity)\n",
        "\n",
        "#Calculate the total revenue (Quantity * Price) for each product\n",
        "df['Revenue'] = df['Quantity'] * df['Price']\n",
        "total_revenue = df.groupby('Product')['Revenue'].sum()\n",
        "print(total_revenue)"
      ]
    },
    {
      "cell_type": "markdown",
      "metadata": {
        "id": "m5c_RVp9sZ2Z"
      },
      "source": [
        "Question 19 - Descriptive Statistics and Inference"
      ]
    },
    {
      "cell_type": "code",
      "execution_count": null,
      "metadata": {
        "id": "Wkx8s-cVieNa"
      },
      "outputs": [
        {
          "ename": "ModuleNotFoundError",
          "evalue": "No module named 'scipy'",
          "output_type": "error",
          "traceback": [
            "\u001b[31m---------------------------------------------------------------------------\u001b[39m",
            "\u001b[31mModuleNotFoundError\u001b[39m                       Traceback (most recent call last)",
            "\u001b[36mCell\u001b[39m\u001b[36m \u001b[39m\u001b[32mIn[1]\u001b[39m\u001b[32m, line 1\u001b[39m\n\u001b[32m----> \u001b[39m\u001b[32m1\u001b[39m \u001b[38;5;28;01mfrom\u001b[39;00m\u001b[38;5;250m \u001b[39m\u001b[34;01mscipy\u001b[39;00m\u001b[34;01m.\u001b[39;00m\u001b[34;01mstats\u001b[39;00m\u001b[38;5;250m \u001b[39m\u001b[38;5;28;01mimport\u001b[39;00m kurtosis, skew\n\u001b[32m      2\u001b[39m data = [\u001b[32m3\u001b[39m, \u001b[32m7\u001b[39m, \u001b[32m9\u001b[39m, \u001b[32m12\u001b[39m, \u001b[32m15\u001b[39m]\n\u001b[32m      3\u001b[39m \u001b[38;5;66;03m#Mean Calculation: Given the data set [3, 7, 9, 12, 15], calculate the mean. What does this mean in the context of the data?\u001b[39;00m\n",
            "\u001b[31mModuleNotFoundError\u001b[39m: No module named 'scipy'"
          ]
        }
      ],
      "source": [
        "from scipy.stats import kurtosis, skew\n",
        "data = [3, 7, 9, 12, 15]\n",
        "#Mean Calculation: Given the data set [3, 7, 9, 12, 15], calculate the mean. What does this mean in the context of the data? \n",
        "mean = np.mean(data)\n",
        "print(\"Mean:\", mean)\n",
        "\n",
        "#Kurtosis Interpretation: What does kurtosis indicate about a data set? Describe how you would identify whether a data set has high or low kurtosis.\n",
        "kurtosis_value = kurtosis(data)\n",
        "print(\"Kurtosis:\", kurtosis_value)\n",
        "\n",
        "#Median vs. Mean: Explain the difference between the mean and median. When is it more appropriate to use the median instead of the mean?\n",
        "median = np.median(data)\n",
        "print(\"Median:\", median)\n",
        "\n",
        "\n",
        "#Mode Identification: Given the data set [2, 4, 4, 6, 8, 8, 8, 10], identify the mode. How would you interpret the mode in this context?\n",
        "data = [2, 4, 4, 6, 8, 8, 8, 10]\n",
        "unique_values, counts = np.unique(data, return_counts=True)\n",
        "mode = unique_values[np.argmax(counts)]\n",
        "\n",
        "#Range Calculation: Calculate the range for the following data set: [3, 5, 8, 12, 14]. What does the range tell you about the spread of the data?\n",
        "data = [3, 5, 8, 12, 14]\n",
        "data_range = np.max(data) - np.min(data)\n",
        "print(\"Range:\", data_range)\n",
        "\n",
        "#Variance Calculation: Given the data set [1, 3, 5, 7], calculate the sample variance. What does variance tell you about the distribution of the data?\n",
        "data = [1, 3, 5, 7]\n",
        "variance = np.var(data)\n",
        "print(\"Variance:\", variance)\n",
        "\n",
        "#Standard Deviation: How does standard deviation help in understanding data spread? Calculate the standard deviation for the data set [5, 7, 10, 12, 14].\n",
        "data = [5, 7, 10, 12, 14]\n",
        "std_dev = np.std(data)\n",
        "print(\"Standard Deviation:\", std_dev)\n",
        "\n",
        "#Skewness Analysis: Given the data set [2, 3, 4, 5, 100], describe the skewness of the data and explain what this means.\n",
        "data = [2, 3, 4, 5, 100]\n",
        "skewness = skew(data)\n",
        "print(\"Skewness:\", skewness)\n"
      ]
    },
    {
      "cell_type": "markdown",
      "metadata": {
        "id": "Gti14KJ2u-Vg"
      },
      "source": [
        "Question 20:"
      ]
    },
    {
      "cell_type": "code",
      "execution_count": 15,
      "metadata": {
        "colab": {
          "base_uri": "https://localhost:8080/"
        },
        "id": "aXhnbidTu7VY",
        "outputId": "7e1d4f74-ea3e-4c16-b7a7-308da452903d"
      },
      "outputs": [
        {
          "name": "stdout",
          "output_type": "stream",
          "text": [
            "{'name': 'John', 'age': 30, 'city': 'New York'}\n"
          ]
        }
      ],
      "source": [
        "#Create a dictionary with the following key-value pairs:\n",
        "dict = {\n",
        "    \"name\": \"John\",\n",
        "    \"age\": 30,\n",
        "    \"city\": \"New York\"\n",
        "}\n",
        "#Print the dictionary.\n",
        "print(dict)"
      ]
    },
    {
      "cell_type": "markdown",
      "metadata": {
        "id": "fjMCmMOAvTFG"
      },
      "source": [
        "Question 21:\n",
        " Write a Python program to read the contents of a file named data.txt. Assume the file contains multiple lines of text. Print each line in the file.\n"
      ]
    },
    {
      "cell_type": "code",
      "execution_count": null,
      "metadata": {
        "id": "BdfKFeQuu7X4"
      },
      "outputs": [],
      "source": [
        "file = open('data.txt', 'r')\n",
        "for line in file:\n",
        "    print(line.strip())\n",
        "file.close()"
      ]
    },
    {
      "cell_type": "markdown",
      "metadata": {
        "id": "OWKJVAhEvwJk"
      },
      "source": [
        "Question 22:\n",
        " Write a Python program to create a file called output.txt and write the text \"Hello, World!\" into it. Ensure the file is saved in the current directory.\n"
      ]
    },
    {
      "cell_type": "code",
      "execution_count": null,
      "metadata": {
        "id": "MuqwvzVuvweJ"
      },
      "outputs": [],
      "source": [
        "file = open('output.txt', 'w')\n",
        "file.write('Hello, World!')\n",
        "file.close()\n"
      ]
    },
    {
      "cell_type": "markdown",
      "metadata": {
        "id": "AdnUQKyjwbM_"
      },
      "source": [
        "Question 23:\n",
        " Create a dictionary with the key \"product\" and the value \"laptop\". Then, update the dictionary by adding a new key-value pair \"price\": 1000. Print the updated dictionary."
      ]
    },
    {
      "cell_type": "code",
      "execution_count": null,
      "metadata": {
        "id": "tXQvwCp6vwsr"
      },
      "outputs": [],
      "source": [
        "dict = {\"product\": \"laptop\"}\n",
        "dict[\"price\"] = 1000\n",
        "print(dict)"
      ]
    },
    {
      "cell_type": "markdown",
      "metadata": {
        "id": "GFrt0HkJwkn3"
      },
      "source": [
        "Question 24:\n",
        " Use the with statement to open a file named example.txt for reading, and then print its contents.\n",
        "\n",
        "What is the advantage of using with for file handling?\n"
      ]
    },
    {
      "cell_type": "code",
      "execution_count": null,
      "metadata": {
        "id": "RF6KlJTIwk17"
      },
      "outputs": [],
      "source": [
        "with open('example.txt', 'r') as file:\n",
        "    print(file.read())"
      ]
    },
    {
      "cell_type": "markdown",
      "metadata": {
        "id": "q-iLUqAEwvwo"
      },
      "source": [
        "Advantages:\n",
        "\n",
        "\t•\twith automatically closes the file after reading, even if an error occurs.\n",
        "\n",
        "\t•\tNo need to manually call close()."
      ]
    }
  ],
  "metadata": {
    "colab": {
      "provenance": []
    },
    "kernelspec": {
      "display_name": "Python 3",
      "name": "python3"
    },
    "language_info": {
      "codemirror_mode": {
        "name": "ipython",
        "version": 3
      },
      "file_extension": ".py",
      "mimetype": "text/x-python",
      "name": "python",
      "nbconvert_exporter": "python",
      "pygments_lexer": "ipython3",
      "version": "3.13.0"
    }
  },
  "nbformat": 4,
  "nbformat_minor": 0
}
